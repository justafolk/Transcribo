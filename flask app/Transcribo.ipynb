{
 "cells": [
  {
   "cell_type": "markdown",
   "metadata": {
    "id": "9sqR_nFWxR63"
   },
   "source": [
    "# Transcribo\n",
    "\n",
    "#####An ML based program which transcribes Online video lectures/meetings and adds highlights/topics generated and summaries of the video lecture.\n",
    "\n"
   ]
  },
  {
   "cell_type": "code",
   "execution_count": 1,
   "metadata": {
    "colab": {
     "base_uri": "https://localhost:8080/"
    },
    "id": "qQeIEfHxxmBQ",
    "outputId": "078888f1-8978-457e-f3b7-8622a0d01981"
   },
   "outputs": [
    {
     "name": "stdout",
     "output_type": "stream",
     "text": [
      "Requirement already satisfied: moviepy in c:\\users\\avdhu\\miniconda3\\envs\\transcribo\\lib\\site-packages (1.0.3)\n",
      "Requirement already satisfied: pydub in c:\\users\\avdhu\\miniconda3\\envs\\transcribo\\lib\\site-packages (0.24.1)\n",
      "Requirement already satisfied: SpeechRecognition in c:\\users\\avdhu\\miniconda3\\envs\\transcribo\\lib\\site-packages (3.8.1)\n",
      "Requirement already satisfied: gdown in c:\\users\\avdhu\\miniconda3\\envs\\transcribo\\lib\\site-packages (3.12.2)\n",
      "Requirement already satisfied: six in c:\\users\\avdhu\\miniconda3\\envs\\transcribo\\lib\\site-packages (from gdown) (1.15.0)\n",
      "Requirement already satisfied: requests[socks] in c:\\users\\avdhu\\miniconda3\\envs\\transcribo\\lib\\site-packages (from gdown) (2.25.1)\n",
      "Requirement already satisfied: tqdm in c:\\users\\avdhu\\miniconda3\\envs\\transcribo\\lib\\site-packages (from gdown) (4.56.0)\n",
      "Requirement already satisfied: filelock in c:\\users\\avdhu\\miniconda3\\envs\\transcribo\\lib\\site-packages (from gdown) (3.0.12)\n",
      "Requirement already satisfied: proglog<=1.0.0 in c:\\users\\avdhu\\miniconda3\\envs\\transcribo\\lib\\site-packages (from moviepy) (0.1.9)\n",
      "Requirement already satisfied: imageio<3.0,>=2.5 in c:\\users\\avdhu\\miniconda3\\envs\\transcribo\\lib\\site-packages (from moviepy) (2.9.0)\n",
      "Requirement already satisfied: decorator<5.0,>=4.0.2 in c:\\users\\avdhu\\miniconda3\\envs\\transcribo\\lib\\site-packages (from moviepy) (4.4.2)\n",
      "Requirement already satisfied: numpy>=1.17.3 in c:\\users\\avdhu\\miniconda3\\envs\\transcribo\\lib\\site-packages (from moviepy) (1.19.2)\n",
      "Requirement already satisfied: imageio-ffmpeg>=0.2.0 in c:\\users\\avdhu\\miniconda3\\envs\\transcribo\\lib\\site-packages (from moviepy) (0.4.3)\n",
      "Requirement already satisfied: pillow in c:\\users\\avdhu\\miniconda3\\envs\\transcribo\\lib\\site-packages (from imageio<3.0,>=2.5->moviepy) (8.1.0)\n",
      "Requirement already satisfied: certifi>=2017.4.17 in c:\\users\\avdhu\\miniconda3\\envs\\transcribo\\lib\\site-packages (from requests[socks]->gdown) (2020.12.5)\n",
      "Requirement already satisfied: idna<3,>=2.5 in c:\\users\\avdhu\\miniconda3\\envs\\transcribo\\lib\\site-packages (from requests[socks]->gdown) (2.10)\n",
      "Requirement already satisfied: chardet<5,>=3.0.2 in c:\\users\\avdhu\\miniconda3\\envs\\transcribo\\lib\\site-packages (from requests[socks]->gdown) (4.0.0)\n",
      "Requirement already satisfied: urllib3<1.27,>=1.21.1 in c:\\users\\avdhu\\miniconda3\\envs\\transcribo\\lib\\site-packages (from requests[socks]->gdown) (1.26.3)\n",
      "Requirement already satisfied: PySocks!=1.5.7,>=1.5.6 in c:\\users\\avdhu\\miniconda3\\envs\\transcribo\\lib\\site-packages (from requests[socks]->gdown) (1.7.1)\n",
      "Requirement already satisfied: punctuator in c:\\users\\avdhu\\miniconda3\\envs\\transcribo\\lib\\site-packages (0.9.6)\n",
      "Requirement already satisfied: theano>=1.0.4 in c:\\users\\avdhu\\miniconda3\\envs\\transcribo\\lib\\site-packages (from punctuator) (1.0.5)\n",
      "Requirement already satisfied: gdown>=3.8.3 in c:\\users\\avdhu\\miniconda3\\envs\\transcribo\\lib\\site-packages (from punctuator) (3.12.2)\n",
      "Requirement already satisfied: numpy>=1.17.2 in c:\\users\\avdhu\\miniconda3\\envs\\transcribo\\lib\\site-packages (from punctuator) (1.19.2)\n",
      "Requirement already satisfied: nltk>=3.4.5 in c:\\users\\avdhu\\miniconda3\\envs\\transcribo\\lib\\site-packages (from punctuator) (3.5)\n",
      "Requirement already satisfied: tqdm in c:\\users\\avdhu\\miniconda3\\envs\\transcribo\\lib\\site-packages (from gdown>=3.8.3->punctuator) (4.56.0)\n",
      "Requirement already satisfied: six in c:\\users\\avdhu\\miniconda3\\envs\\transcribo\\lib\\site-packages (from gdown>=3.8.3->punctuator) (1.15.0)\n",
      "Requirement already satisfied: requests[socks] in c:\\users\\avdhu\\miniconda3\\envs\\transcribo\\lib\\site-packages (from gdown>=3.8.3->punctuator) (2.25.1)\n",
      "Requirement already satisfied: filelock in c:\\users\\avdhu\\miniconda3\\envs\\transcribo\\lib\\site-packages (from gdown>=3.8.3->punctuator) (3.0.12)\n",
      "Requirement already satisfied: joblib in c:\\users\\avdhu\\miniconda3\\envs\\transcribo\\lib\\site-packages (from nltk>=3.4.5->punctuator) (1.0.0)\n",
      "Requirement already satisfied: click in c:\\users\\avdhu\\miniconda3\\envs\\transcribo\\lib\\site-packages (from nltk>=3.4.5->punctuator) (7.1.2)\n",
      "Requirement already satisfied: regex in c:\\users\\avdhu\\miniconda3\\envs\\transcribo\\lib\\site-packages (from nltk>=3.4.5->punctuator) (2020.11.13)\n",
      "Requirement already satisfied: scipy>=0.14 in c:\\users\\avdhu\\miniconda3\\envs\\transcribo\\lib\\site-packages (from theano>=1.0.4->punctuator) (1.5.2)\n",
      "Requirement already satisfied: chardet<5,>=3.0.2 in c:\\users\\avdhu\\miniconda3\\envs\\transcribo\\lib\\site-packages (from requests[socks]->gdown>=3.8.3->punctuator) (4.0.0)\n",
      "Requirement already satisfied: certifi>=2017.4.17 in c:\\users\\avdhu\\miniconda3\\envs\\transcribo\\lib\\site-packages (from requests[socks]->gdown>=3.8.3->punctuator) (2020.12.5)\n",
      "Requirement already satisfied: idna<3,>=2.5 in c:\\users\\avdhu\\miniconda3\\envs\\transcribo\\lib\\site-packages (from requests[socks]->gdown>=3.8.3->punctuator) (2.10)\n",
      "Requirement already satisfied: urllib3<1.27,>=1.21.1 in c:\\users\\avdhu\\miniconda3\\envs\\transcribo\\lib\\site-packages (from requests[socks]->gdown>=3.8.3->punctuator) (1.26.3)\n",
      "Requirement already satisfied: PySocks!=1.5.7,>=1.5.6 in c:\\users\\avdhu\\miniconda3\\envs\\transcribo\\lib\\site-packages (from requests[socks]->gdown>=3.8.3->punctuator) (1.7.1)\n"
     ]
    },
    {
     "name": "stderr",
     "output_type": "stream",
     "text": [
      "C:\\Users\\avdhu\\miniconda3\\envs\\transcribo\\lib\\site-packages\\pydub\\utils.py:170: RuntimeWarning: Couldn't find ffmpeg or avconv - defaulting to ffmpeg, but may not work\n",
      "  warn(\"Couldn't find ffmpeg or avconv - defaulting to ffmpeg, but may not work\", RuntimeWarning)\n"
     ]
    },
    {
     "name": "stdout",
     "output_type": "stream",
     "text": [
      "Imports Done\n"
     ]
    },
    {
     "name": "stderr",
     "output_type": "stream",
     "text": [
      "[nltk_data] Downloading package stopwords to\n",
      "[nltk_data]     C:\\Users\\avdhu\\AppData\\Roaming\\nltk_data...\n",
      "[nltk_data]   Package stopwords is already up-to-date!\n"
     ]
    }
   ],
   "source": [
    "#imports\n",
    "!pip install moviepy pydub SpeechRecognition gdown\n",
    "!pip install punctuator \n",
    "import gdown\n",
    "import numpy as np\n",
    "import speech_recognition as sr \n",
    "from sklearn.decomposition import LatentDirichletAllocation\n",
    "from sklearn.feature_extraction.text import CountVectorizer\n",
    "import wave, math, contextlib\n",
    "import nltk\n",
    "import random\n",
    "from sklearn.feature_extraction.text import TfidfVectorizer\n",
    "import string\n",
    "import warnings\n",
    "from nltk.corpus import stopwords\n",
    "from nltk import sent_tokenize, word_tokenize, PorterStemmer\n",
    "from moviepy.editor import AudioFileClip\n",
    "nltk.download('stopwords')\n",
    "try :\n",
    "  nltk.data.find('tokenizers/punkt')\n",
    "  \n",
    "except LookupError:\n",
    "  print('punkt')\n",
    "  nltk.download('punkt')\n",
    "\n",
    "try :\n",
    "  nltk.data.find('corpora/wordnet')\n",
    "except LookupError:\n",
    "  nltk.download('wordnet')\n",
    "print(\"Imports Done\")"
   ]
  },
  {
   "cell_type": "code",
   "execution_count": 3,
   "metadata": {
    "colab": {
     "base_uri": "https://localhost:8080/"
    },
    "id": "Pt0rXFWExqNO",
    "outputId": "8f0220d2-8649-4afe-c315-7a29fcda4f22"
   },
   "outputs": [
    {
     "name": "stderr",
     "output_type": "stream",
     "text": [
      "\r",
      "chunk:   0%|                                                                       | 0/12112 [00:00<?, ?it/s, now=None]"
     ]
    },
    {
     "name": "stdout",
     "output_type": "stream",
     "text": [
      "MoviePy - Writing audio in file.wav\n"
     ]
    },
    {
     "name": "stderr",
     "output_type": "stream",
     "text": [
      "                                                                                                                       "
     ]
    },
    {
     "name": "stdout",
     "output_type": "stream",
     "text": [
      "MoviePy - Done.\n"
     ]
    },
    {
     "name": "stderr",
     "output_type": "stream",
     "text": [
      "\r"
     ]
    }
   ],
   "source": [
    "#Converting the Video file to Audio Wave\n",
    "audioclip = AudioFileClip(\"exa.mp4\")\n",
    "audioclip.write_audiofile(\"file.wav\")"
   ]
  },
  {
   "cell_type": "code",
   "execution_count": 7,
   "metadata": {
    "id": "DVyzo3q3yidy"
   },
   "outputs": [],
   "source": [
    "#Getting the necessary features of audio file for Speech Recognition\n",
    "with contextlib.closing(wave.open(\"file.wav\",'r')) as f:\n",
    "    waves = f.getnframes()\n",
    "    framerate = f.getframerate()\n",
    "    duration = waves / float(framerate)\n",
    "finaltotal = math.ceil(duration / 60)"
   ]
  },
  {
   "cell_type": "code",
   "execution_count": 10,
   "metadata": {
    "id": "-8G0mc2qzVrQ"
   },
   "outputs": [
    {
     "name": "stdout",
     "output_type": "stream",
     "text": [
      "0 and 10\n",
      "1 and 10\n",
      "2 and 10\n",
      "3 and 10\n",
      "4 and 10\n",
      "5 and 10\n",
      "6 and 10\n",
      "7 and 10\n",
      "8 and 10\n",
      "9 and 10\n"
     ]
    }
   ],
   "source": [
    "#Speech recognition in the audio file\n",
    "text=''\n",
    "r = sr.Recognizer()\n",
    "for i in range(0, finaltotal):\n",
    "    with sr.AudioFile(\"file.wav\") as source:\n",
    "        audio = r.record(source, offset=i*60, duration=60)\n",
    "    f = open(\"transcription.txt\", \"a\")\n",
    "    f.write(r.recognize_google(audio))\n",
    "    f.write(\" \")\n",
    "    print(i,\"and\",finaltotal)\n",
    "f.close()\n"
   ]
  },
  {
   "cell_type": "code",
   "execution_count": 4,
   "metadata": {
    "colab": {
     "base_uri": "https://localhost:8080/"
    },
    "id": "78bk0j5L3Z_o",
    "outputId": "9502bfbc-0d49-42cf-e906-5eaaacd5d71c"
   },
   "outputs": [
    {
     "name": "stdout",
     "output_type": "stream",
     "text": [
      "What is the industry by staying with you that I wish I'd known before I started reading a few other youtubers Who done on this topic and I want to put my own twist on things in this video, the five things I will be sharing of things you've never heard of before or at least equal. Then it usually involved in 16 minutes, I want to switch things up that Hill. You know, my middle name is the experimenter clients. We experimentally harvesting in the spirit would not mind emename I want an experiment make. This is very short and sweet bitesize. It will keep it under 5 minutes forward I went over 5 minutes. Ok. So the first thing I wish, I'd known before I started coding. And this is the one of the four it's always good to hear again is that there is no after which it too late to start Oracle right now watching is very when you want to start to create a great time to start. If you study it college in you are you never coronavirus the foreign? Can you don't worry, it's, a great time to start if you feel that if you just garbage next mein to dispel the nest for you right now, if you're just starting out coding 39 operating systems, we can take from Windows to Mac OS and some variation of Linux Ubuntu. For example, you can use whatever you want whatever what is most convenient to you and a fact that all three of them have a small town V right now. But overall it's, not a big deal for windows. The downside is that most coding, tutorials online, Auto, Tech done on max on Linux machine circuit or the most programming tools out there automatically retailed for Microsoft fix. It harder to sometimes get things to work on Windows to you might need just had over them. Both patients and over the willingness to look around the web, Tiraha get things to work on Windows taxes with the downside is maybe that lyrics caption in the sense that if something goes wrong, Mr student, hope you can have on your own text to make a work. I would know is I do that Windows and Ubuntu for the first two years of my programming tutorial using Mac OS that is used in industry, Pisces Meri. You can specify the back cover for reaction that can happen when someone quotes on the button that we are the one the colour, you can specify any action that you can specify for those two things constitute, the API for the production and component if you got back. And service instance, take that supports functionality to please to comment on 22 Retreat 3, all these functionalities of things were you can achieve by interacting with some sort of back and service in a specific weight. For instance, per week. You probably have the head and employment and pass a specific type of dalit Princeton 200 words from letters. However, long, it is even tell you don't used for them and all the things that define how use this functionality is for the ATI for the quarterback cancer, new cooking, something in a recipe that recipe is soda with the API for the destroy your cooking for what you want to my videos. And you know, if you have the same as provided by the universe is a happy person ATI from watching YouTube videos with the time AP Siri, Siri full the come ATI is used extreme, usually in the industry, be ready for number 4 I. Wish I was talking to someone had told me that algoexpert.io just kidding. You just need to forget. My company algoexpert is to prevent recording introduced Agar expert.io user, promo code for protest on the platform number for that. I wish someone told me once and for all that there is no difference between a software developer engineer those for the Saints and member being January confused about this was working in the coding bootcamps. And some of them are saying they were preparing you for developer order is missing the appropriate software engineer as it is a software engineer more than a software developer. No, no, no, no, no, no, no, no, no, no, no, no, no, no, no, no 1 using comment down below, no, no, no with right number nose and effort from me to write 240/12 software engineer at the same thing with things to do with different. It Minister, specialises friend since it was a backend engineer of an engineer vs, software, engineer, software developers that specialise in one for the stack by the way, even there with this is basically a fun 20 days. If you sell your fun engineer, that means you are working on the fun and energetic. We were talking about the weather be here before you are a web developer assistant final thing that I wish it had is that there is no best programming language to learn to use like you people over time talking that the best programming languages, whatever programming language used advice if you like it, if you enjoy it, if you feel burning it's, really girl, there is no best programming language for JavaScript wandering Google office attire after that. It will be fast. I don't know why? But no wonder it and the day with this video on my life,.\n"
     ]
    }
   ],
   "source": [
    "#Punctuating the raw transcript \n",
    "text=open(\"transcription.txt\", \"r\")\n",
    "text=text.read()\n",
    "from punctuator import Punctuator\n",
    "\n",
    "p = Punctuator('hel.pcl')\n",
    "punctuated=p.punctuate(text)\n",
    "print(punctuated)"
   ]
  },
  {
   "cell_type": "code",
   "execution_count": 5,
   "metadata": {
    "colab": {
     "background_save": true,
     "base_uri": "https://localhost:8080/"
    },
    "id": "i3phZAJR88ip",
    "outputId": "daebe566-3ece-4a3a-8bf9-e83e0c534157"
   },
   "outputs": [
    {
     "name": "stdout",
     "output_type": "stream",
     "text": [
      " What is the industry by staying with you that I wish I'd known before I started reading a few other youtubers Who done on this topic and I want to put my own twist on things in this video, the five things I will be sharing of things you've never heard of before or at least equal. And this is the one of the four it's always good to hear again is that there is no after which it too late to start Oracle right now watching is very when you want to start to create a great time to start. Can you don't worry, it's, a great time to start if you feel that if you just garbage next mein to dispel the nest for you right now, if you're just starting out coding 39 operating systems, we can take from Windows to Mac OS and some variation of Linux Ubuntu. For example, you can use whatever you want whatever what is most convenient to you and a fact that all three of them have a small town V right now. The downside is that most coding, tutorials online, Auto, Tech done on max on Linux machine circuit or the most programming tools out there automatically retailed for Microsoft fix. Both patients and over the willingness to look around the web, Tiraha get things to work on Windows taxes with the downside is maybe that lyrics caption in the sense that if something goes wrong, Mr student, hope you can have on your own text to make a work. I would know is I do that Windows and Ubuntu for the first two years of my programming tutorial using Mac OS that is used in industry, Pisces Meri. You can specify the back cover for reaction that can happen when someone quotes on the button that we are the one the colour, you can specify any action that you can specify for those two things constitute, the API for the production and component if you got back. And service instance, take that supports functionality to please to comment on 22 Retreat 3, all these functionalities of things were you can achieve by interacting with some sort of back and service in a specific weight. You probably have the head and employment and pass a specific type of dalit Princeton 200 words from letters. However, long, it is even tell you don't used for them and all the things that define how use this functionality is for the ATI for the quarterback cancer, new cooking, something in a recipe that recipe is soda with the API for the destroy your cooking for what you want to my videos. And you know, if you have the same as provided by the universe is a happy person ATI from watching YouTube videos with the time AP Siri, Siri full the come ATI is used extreme, usually in the industry, be ready for number 4 I. My company algoexpert is to prevent recording introduced Agar expert.io user, promo code for protest on the platform number for that. I wish someone told me once and for all that there is no difference between a software developer engineer those for the Saints and member being January confused about this was working in the coding bootcamps. No, no, no, no, no, no, no, no, no, no, no, no, no, no, no, no 1 using comment down below, no, no, no with right number nose and effort from me to write 240/12 software engineer at the same thing with things to do with different. It Minister, specialises friend since it was a backend engineer of an engineer vs, software, engineer, software developers that specialise in one for the stack by the way, even there with this is basically a fun 20 days. We were talking about the weather be here before you are a web developer assistant final thing that I wish it had is that there is no best programming language to learn to use like you people over time talking that the best programming languages, whatever programming language used advice if you like it, if you enjoy it, if you feel burning it's, really girl, there is no best programming language for JavaScript wandering Google office attire after that.\n",
      "4924\n"
     ]
    }
   ],
   "source": [
    "#Working through the summary\n",
    "#We did delibrately added punctuations, but for vectorizing the text, we need to get them out too.\n",
    "HANDICAP=1\n",
    "def remove_punctuation_marks(text) :\n",
    "    punctuation_marks = dict((ord(punctuation_mark), None) for punctuation_mark in string.punctuation)\n",
    "    return text.translate(punctuation_marks)\n",
    "#Tokenizing the words using nltk\n",
    "def get_lemmatized_tokens(text) :\n",
    "    normalized_tokens = nltk.word_tokenize(remove_punctuation_marks(text.lower()))\n",
    "    return [nltk.stem.WordNetLemmatizer().lemmatize(normalized_token) for normalized_token in normalized_tokens]\n",
    "#Getting average of the values of the sentences scored\n",
    "def get_average(values) :\n",
    "    greater_than_zero_count = total = 0\n",
    "    for value in values :\n",
    "        if value != 0 :\n",
    "            greater_than_zero_count += 1\n",
    "            total += value \n",
    "    return total / 1\n",
    "#Getting the final score of the sentences/words.\n",
    "def get_threshold(tfidf_results) :\n",
    "    i = total = 0\n",
    "    while i < (tfidf_results.shape[0]) :\n",
    "        total += get_average(tfidf_results[i, :].toarray()[0])\n",
    "        i += 1\n",
    "    return total / tfidf_results.shape[0]\n",
    "#Getting the final summary with the most scored sentences in text\n",
    "def get_summary(documents, tfidf_results) :\n",
    "    summary = \"\"\n",
    "    i = 0\n",
    "    while i < (tfidf_results.shape[0]) :\n",
    "        if (get_average(tfidf_results[i, :].toarray()[0])) >= get_threshold(tfidf_results) * HANDICAP :\n",
    "                summary += ' ' + documents[i]\n",
    "        i += 1\n",
    "    return summary\n",
    "\n",
    "if __name__ == \"__main__\" :\n",
    "    warnings.filterwarnings(\"ignore\")\n",
    "    documents = nltk.sent_tokenize(punctuated)\n",
    "    tfidf_results = TfidfVectorizer(tokenizer = get_lemmatized_tokens, stop_words = stopwords.words('english')).fit_transform(documents)\n",
    "    a=get_summary(documents, tfidf_results)\n",
    "    print(a)\n",
    "    print(len(punctuated))"
   ]
  },
  {
   "cell_type": "code",
   "execution_count": 3,
   "metadata": {
    "colab": {
     "base_uri": "https://localhost:8080/",
     "height": 203
    },
    "id": "s4U6SZut_m6T",
    "outputId": "77b2498f-4689-4a8e-e47e-0744ee824d29"
   },
   "outputs": [
    {
     "name": "stdout",
     "output_type": "stream",
     "text": [
      "code\n",
      "developers\n",
      "programming\n",
      "software\n",
      "engineer\n",
      "number\n",
      "thing\n",
      "youtube\n",
      "pisces\n",
      "usually\n"
     ]
    },
    {
     "data": {
      "text/plain": [
       "str"
      ]
     },
     "execution_count": 3,
     "metadata": {},
     "output_type": "execute_result"
    }
   ],
   "source": [
    "#Getting the keywords out of the text, with gensim's summarization tool\n",
    "from gensim.summarization import keywords\n",
    "text=open(\"transcription.txt\", \"r\")\n",
    "text=text.read()\n",
    "text_en = text\n",
    "final=keywords(text_en,words = 10, lemmatize = True)\n",
    "print(final)\n",
    "type(final)"
   ]
  },
  {
   "cell_type": "code",
   "execution_count": 20,
   "metadata": {
    "colab": {
     "base_uri": "https://localhost:8080/"
    },
    "id": "cb6N5EqU_2kQ",
    "outputId": "e2129f95-bda9-47be-d7f1-c5e065418f76"
   },
   "outputs": [
    {
     "name": "stdout",
     "output_type": "stream",
     "text": [
      "done\n"
     ]
    }
   ],
   "source": [
    "f=open(\"Final Transcription.txt\",'w')\n",
    "f.write(\"Transcription for Given Source.\\n\")\n",
    "f.write(\"\\nThe following keywords were extracted:\\n\")\n",
    "f.write(final)\n",
    "f.write(\"\\nThe summarized Block of the transcription: \\n\")\n",
    "f.write(a)\n",
    "f.write(\"\\nThe original transcription:\\n\")\n",
    "f.write(punctuated)\n",
    "f.close\n",
    "print(\"done\")"
   ]
  },
  {
   "cell_type": "code",
   "execution_count": null,
   "metadata": {
    "id": "4FvRrpZDFUrp"
   },
   "outputs": [],
   "source": []
  }
 ],
 "metadata": {
  "colab": {
   "name": "Untitled7.ipynb",
   "provenance": [],
   "toc_visible": true
  },
  "kernelspec": {
   "display_name": "Python 3",
   "language": "python",
   "name": "python3"
  },
  "language_info": {
   "codemirror_mode": {
    "name": "ipython",
    "version": 3
   },
   "file_extension": ".py",
   "mimetype": "text/x-python",
   "name": "python",
   "nbconvert_exporter": "python",
   "pygments_lexer": "ipython3",
   "version": "3.8.5"
  }
 },
 "nbformat": 4,
 "nbformat_minor": 1
}